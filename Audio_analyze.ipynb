{
  "nbformat": 4,
  "nbformat_minor": 0,
  "metadata": {
    "colab": {
      "name": "Audio analyze",
      "provenance": [],
      "collapsed_sections": [],
      "toc_visible": true,
      "machine_shape": "hm",
      "authorship_tag": "ABX9TyMunQAE9x6EbE9eO0wy2Uu0"
    },
    "kernelspec": {
      "name": "python3",
      "display_name": "Python 3"
    },
    "language_info": {
      "name": "python"
    },
    "accelerator": "GPU"
  },
  "cells": [
    {
      "cell_type": "markdown",
      "metadata": {
        "id": "CJ2G4cJFbDEH"
      },
      "source": [
        "# 해결해야할 문제들 목록\n",
        "\n",
        "## 데이터 관련\n",
        "- [ ] spectrogram 이외의 정보 (MFCC 등...)\n",
        "- [ ] 데이터 정규화 이후 학습\n",
        "- [x] 정규화 방법 찾음\n",
        "\n",
        "\n",
        "\n",
        "\n",
        "## 학습 관련\n",
        "\n",
        "- [x] loss가 줄어들지 않는 문제\n",
        "- [x] 학습이 편향되는 문제 \n",
        "  - 이미지에 붙는 padding이 문제였음\n",
        "  \n",
        "\n",
        "\n"
      ]
    },
    {
      "cell_type": "markdown",
      "metadata": {
        "id": "BXx-djwD8rSr"
      },
      "source": [
        "### CNN BASED Music Emotion Classification"
      ]
    },
    {
      "cell_type": "markdown",
      "metadata": {
        "id": "GjcSeEER88Xt"
      },
      "source": [
        "# 1. 학습에 필요한 것들"
      ]
    },
    {
      "cell_type": "code",
      "metadata": {
        "colab": {
          "base_uri": "https://localhost:8080/"
        },
        "id": "UQXG-st0HQSt",
        "outputId": "1a0af997-6997-4a35-ee61-c8f1c7a657a4"
      },
      "source": [
        "from google.colab import drive\n",
        "drive.mount('/content/drive')\n",
        "data_path = '/content/drive/MyDrive/sample'\n",
        "test_data_path = '/content/drive/MyDrive/test'"
      ],
      "execution_count": 1,
      "outputs": [
        {
          "output_type": "stream",
          "text": [
            "Mounted at /content/drive\n"
          ],
          "name": "stdout"
        }
      ]
    },
    {
      "cell_type": "code",
      "metadata": {
        "id": "5hoO8Xoje057"
      },
      "source": [
        "# Module Import \n",
        "import librosa\n",
        "import numpy as np\n",
        "import matplotlib.pyplot as plt\n",
        "import torch\n",
        "import os\n",
        "import pandas as pd\n",
        "import csv\n",
        "import torch.nn as nn\n",
        "import torch.nn.functional as F\n",
        "import torch.optim as optim\n",
        "import soundfile as sf\n",
        "import random\n",
        "\n",
        "\n",
        "from glob import glob\n",
        "from PIL import Image\n",
        "from torch.utils.data import Dataset\n",
        "from skimage import io\n",
        "from torchvision.io import read_image"
      ],
      "execution_count": 2,
      "outputs": []
    },
    {
      "cell_type": "markdown",
      "metadata": {
        "id": "pRu8ZgMPQaQM"
      },
      "source": [
        ""
      ]
    },
    {
      "cell_type": "code",
      "metadata": {
        "id": "zHpNODa56Dg3"
      },
      "source": [
        "# Read csv file\n",
        "def read_csv(csv_path):\n",
        "  csv_path ='/content/drive/MyDrive/sample/Labels.csv'\n",
        "  data_frame = pd.read_csv(csv_path)\n",
        "\n",
        "  return data_frame\n",
        "\n",
        "\n",
        "#data_frame.iloc[0]\n",
        "#\n",
        "#Name      Labels\n",
        "#sample1     4\n",
        "#sample2     4\n"
      ],
      "execution_count": 3,
      "outputs": []
    },
    {
      "cell_type": "code",
      "metadata": {
        "id": "BzegYPuVh7oE"
      },
      "source": [
        "# For wave image , wav files are transformed by stft \n",
        "# wav transform \n",
        "# default sampling rate : 22050\n",
        "\n",
        "def makeSpectrogram(spectrogram_path):\n",
        "  for idx,content in data_frame.iterrows():\n",
        "\n",
        "    # Audio analyze using Librosa  \n",
        "    wave,rate= librosa.load(data_path+\"/\"+content[0],sr=22050)\n",
        "    stft_result = librosa.stft(wave)\n",
        "\n",
        "    # complex variable function --> real variable function\n",
        "    D = np.abs(stft_result)\n",
        "\n",
        "    # change to mel scale\n",
        "    melspectrogram = librosa.feature.melspectrogram(S=D)\n",
        "\n",
        "    plt.imshow(melspectrogram)\n",
        "    plt.axis('off')\n",
        "    plt.xticks([])\n",
        "    plt.yticks([])\n",
        "    plt.tight_layout()\n",
        "    plt.subplots_adjust(left=0,bottom=0,right=1,top=1,hspace=0,wspace=0)\n",
        "\n",
        "    # need spectrogram path \n",
        "    plt.savefig(data_path+\"/spectrogram/\"+content[0],bbox_inches='tight',pad_inches=0,dpi=100,format=\"png\")\n",
        "\n",
        " "
      ],
      "execution_count": 4,
      "outputs": []
    },
    {
      "cell_type": "code",
      "metadata": {
        "id": "r1FkbhjPnN3K"
      },
      "source": [
        "class CustomMusicDataset(Dataset):\n",
        "  #transform = None / target_transform = None\n",
        "  def __init__(self,labels_file,img_dir):\n",
        "\n",
        "    # 파일 기준  \n",
        "    self.img_labels = pd.read_csv(labels_file)\n",
        "    self.img_dir = img_dir\n",
        "    \n",
        "  def __len__(self):\n",
        "    return len(self.img_labels)\n",
        "\n",
        "  def __getitem__(self,idx):\n",
        "    img_path = os.path.join(self.img_dir,self.img_labels.iloc[idx,0])\n",
        "    \n",
        "    image = Image.open(img_path,mode=\"r\")\n",
        "    re_img = image.resize((128,128))\n",
        "\n",
        "    r,g,b,alpha= re_img.split()\n",
        "\n",
        "    r_resize_img = np.float32(r) / 255.0\n",
        "    g_resize_img = np.float32(g) / 255.0\n",
        "    b_resize_img = np.float32(b) / 255.0\n",
        "\n",
        "    rgb_resize_img = np.asarray([r_resize_img,g_resize_img,b_resize_img])\n",
        "    label = self.img_labels.iloc[idx,1]\n",
        "\n",
        "    sample = [rgb_resize_img,label]\n",
        "    return sample\n",
        "\n",
        "\n",
        "\n",
        "# 1 : netural  2: happy  3: sad"
      ],
      "execution_count": 5,
      "outputs": []
    },
    {
      "cell_type": "code",
      "metadata": {
        "id": "RFGibHt-eCot"
      },
      "source": [
        "# path 설정\n",
        "Labels =\"/content/drive/MyDrive/sample/Labels.csv\"\n",
        "root = \"/content/drive/MyDrive/sample/spectrogram\"\n",
        "\n",
        "\n",
        "\n",
        "trainset = CustomMusicDataset(Labels,root)\n",
        "trainloader = torch.utils.data.DataLoader(trainset,batch_size=1,shuffle=True)\n",
        "\n",
        "\n"
      ],
      "execution_count": 6,
      "outputs": []
    },
    {
      "cell_type": "code",
      "metadata": {
        "id": "jM5cQ_vYhQeV"
      },
      "source": [
        "class CustomConvNet(nn.Module):\n",
        "    def __init__(self):\n",
        "        super(CustomConvNet, self).__init__()\n",
        "\n",
        "        self.layer1 = self.conv_module(3,16)\n",
        "        self.layer2 = self.conv_module(16,32)\n",
        "        self.layer3 = self.conv_module(32,64)\n",
        "        self.layer4 = self.conv_module(64, 128)\n",
        "        self.layer5 = self.conv_module(128,256)\n",
        "\n",
        "        self.fc1 = nn.Linear(4096,120)\n",
        "        self.fc2 = nn.Linear(120,80)\n",
        "        self.fc3 = nn.Linear(80,3)\n",
        "        \n",
        "        \n",
        "\n",
        "    def forward(self, x):\n",
        "      x = self.layer1(x)\n",
        "      x = self.layer2(x)\n",
        "      x = self.layer3(x)\n",
        "      x = self.layer4(x)\n",
        "      x = self.layer5(x)\n",
        "      x = x.view(-1, 4096)\n",
        "      x = F.relu(self.fc1(x))\n",
        "      x = F.relu(self.fc2(x))\n",
        "      x = self.fc3(x)\n",
        "\n",
        "      return x\n",
        "\n",
        "    def conv_module(self,in_num,out_num):\n",
        "      return nn.Sequential(\n",
        "          nn.Conv2d(in_num,out_num,kernel_size = 3, stride=1,padding = 1),\n",
        "          nn.BatchNorm2d(out_num),\n",
        "          nn.ReLU(),\n",
        "          nn.MaxPool2d(kernel_size = 2, stride = 2)\n",
        "      )\n",
        "\n",
        "\n",
        "net = CustomConvNet().cuda()\n"
      ],
      "execution_count": 7,
      "outputs": []
    },
    {
      "cell_type": "code",
      "metadata": {
        "id": "FobyScmUgBU5"
      },
      "source": [
        "def training():\n",
        "\n",
        "  cuda = torch.device('cuda')\n",
        "  criterion = nn.CrossEntropyLoss()\n",
        "  \n",
        "  if torch.cuda.is_available():\n",
        "    criterion = nn.CrossEntropyLoss().cuda()\n",
        "    \n",
        "  optimizer = optim.SGD(net.parameters(), lr=0.001, momentum=0.9)\n",
        "\n",
        "  for epoch in range(30):\n",
        "      running_loss = 0.0\n",
        "\n",
        "      for i, data in enumerate(trainloader, 0):\n",
        "          # get the inputs\n",
        "          inputs, labels = data\n",
        "\n",
        "          if torch.cuda.is_available():\n",
        "            inputs = inputs.cuda()\n",
        "            labels = labels.cuda()\n",
        "\n",
        "          # zero the parameter gradients\n",
        "          optimizer.zero_grad()\n",
        "\n",
        "          # forward + backward + optimize\n",
        "          outputs = net(inputs)\n",
        "          loss = criterion(outputs, labels)\n",
        "\n",
        "          loss.backward()\n",
        "          optimizer.step()\n",
        "\n",
        "          # print statistics\n",
        "          running_loss += loss.item()\n",
        "\n",
        "          if i%399 == 398:\n",
        "\n",
        "            print('[%d, %5d] loss: %.3f' % (epoch + 1, i + 1, running_loss / 399))\n",
        "\n",
        "            running_loss = 0.0\n",
        "\n",
        "  print('Finished Training')"
      ],
      "execution_count": 8,
      "outputs": []
    },
    {
      "cell_type": "code",
      "metadata": {
        "id": "G-MIssRsRzyC"
      },
      "source": [
        "# Model Save\n",
        "PATH = './net.pth'\n",
        "torch.save(net.state_dict(),PATH)"
      ],
      "execution_count": 9,
      "outputs": []
    },
    {
      "cell_type": "code",
      "metadata": {
        "colab": {
          "base_uri": "https://localhost:8080/"
        },
        "id": "BIfgB-A-tfge",
        "outputId": "8695690c-c6a8-4ea3-98f2-1d61f7f6de86"
      },
      "source": [
        "# \n",
        "path = \"/content/drive/MyDrive/test\"\n",
        "content_list = glob(path+\"/*.wav\")\n",
        "print(content_list)\n",
        "test_music = os.listdir(path)"
      ],
      "execution_count": 10,
      "outputs": [
        {
          "output_type": "stream",
          "text": [
            "['/content/drive/MyDrive/test/OMFG - Hello.wav', '/content/drive/MyDrive/test/Pentatonix.wav', '/content/drive/MyDrive/test/Animals.wav', '/content/drive/MyDrive/test/Sing Me To Sleep.wav', '/content/drive/MyDrive/test/Never Gonna Give You Up.wav', '/content/drive/MyDrive/test/Lean On.wav', '/content/drive/MyDrive/test/Uptown Funk.wav', '/content/drive/MyDrive/test/Hero.wav', '/content/drive/MyDrive/test/Get Lucky.wav', '/content/drive/MyDrive/test/The Next Episode.wav', '/content/drive/MyDrive/test/CHEER UP.wav', '/content/drive/MyDrive/test/Spectre.wav', '/content/drive/MyDrive/test/Scream & Shout.wav', '/content/drive/MyDrive/test/We Dem Boyz.wav', '/content/drive/MyDrive/test/Stay The Night.wav', '/content/drive/MyDrive/test/Outside.wav', '/content/drive/MyDrive/test/Starset.wav', '/content/drive/MyDrive/test/Dum Dee Dum.wav', '/content/drive/MyDrive/test/Crystallize.wav', \"/content/drive/MyDrive/test/I'd Love to Change the World.wav\"]\n"
          ],
          "name": "stdout"
        }
      ]
    },
    {
      "cell_type": "code",
      "metadata": {
        "id": "WuJsWSJ_uUEc"
      },
      "source": [
        "def new_music_analyze(path,file_name):\n",
        "  folder_path = path+\"/\"+file_name+\"_sample\"\n",
        "  os.mkdir(folder_path)\n",
        "  data,rate = librosa.load(path+\"/\"+file_name)\n",
        "  \n",
        "  seconds = len(data)//22050\n",
        "  five_sec_chunck = seconds // 5\n",
        "  \n",
        "\n",
        "  for i in range(five_sec_chunck-1):\n",
        "    wave = data[rate*5*i:rate*5*(i+1)]\n",
        "    stft_result = librosa.stft(wave)\n",
        "    D = np.abs(stft_result)\n",
        "    melspectrogram = librosa.feature.melspectrogram(S=D)\n",
        "\n",
        "    plt.imshow(melspectrogram)\n",
        "    plt.axis('off')\n",
        "    plt.xticks([])\n",
        "    plt.yticks([])\n",
        "    plt.tight_layout()\n",
        "    plt.subplots_adjust(left=0,bottom=0,right=1,top=1,hspace=0,wspace=0)\n",
        "\n",
        "    plt.savefig(folder_path+\"/\"+file_name+\"_\"+str(i),pad_inches=0,dpi=100,format=\"png\",bbox_inches=\"tight\")\n",
        "\n",
        "\n",
        "\n",
        "  \n",
        "  \n",
        "    \n",
        "\n",
        "\n",
        "\n",
        "\n",
        "\n",
        "    \n"
      ],
      "execution_count": 11,
      "outputs": []
    },
    {
      "cell_type": "code",
      "metadata": {
        "colab": {
          "base_uri": "https://localhost:8080/"
        },
        "id": "IgmOiON9DfA6",
        "outputId": "601a3672-9be5-4a93-b30f-f34eaf51f9a3"
      },
      "source": [
        "print(test_music)"
      ],
      "execution_count": 12,
      "outputs": [
        {
          "output_type": "stream",
          "text": [
            "['OMFG - Hello.wav', 'Pentatonix.wav', 'Animals.wav', 'Sing Me To Sleep.wav', 'Never Gonna Give You Up.wav', 'Lean On.wav', 'Uptown Funk.wav', 'Hero.wav', 'Get Lucky.wav', 'The Next Episode.wav', 'CHEER UP.wav', 'Spectre.wav', 'Scream & Shout.wav', 'We Dem Boyz.wav', 'Stay The Night.wav', 'Outside.wav', 'Starset.wav', 'Dum Dee Dum.wav', 'Crystallize.wav', \"I'd Love to Change the World.wav\", 'test_result.csv', 'OMFG - Hello.wav_sample', 'Pentatonix.wav_sample', 'Sing Me To Sleep.wav_sample', 'Never Gonna Give You Up.wav_sample', \"I'd Love to Change the World.wav_sample\", 'Darin-Autumn.WAV', 'Darin-Autumn.WAV_sample']\n"
          ],
          "name": "stdout"
        }
      ]
    },
    {
      "cell_type": "code",
      "metadata": {
        "colab": {
          "base_uri": "https://localhost:8080/",
          "height": 287
        },
        "id": "Z-_Xb3kPyK6f",
        "outputId": "679737ff-48fd-4ed9-b18d-cec0f10388fe"
      },
      "source": [
        "new_music_analyze(path,test_music[-1])"
      ],
      "execution_count": null,
      "outputs": [
        {
          "output_type": "display_data",
          "data": {
            "image/png": "[encoded data removed]",
            "text/plain": [
              "<Figure size 432x288 with 1 Axes>"
            ]
          },
          "metadata": {
            "tags": []
          }
        }
      ]
    },
    {
      "cell_type": "code",
      "metadata": {
        "id": "ndvXH_hM36v2"
      },
      "source": [
        "test_label = \"/content/drive/MyDrive/test/Darin-Autumn.WAV_sample/test_label.csv\"\n",
        "test_root = \"/content/drive/MyDrive/test/Darin-Autumn.WAV_sample\"\n",
        "\n",
        "testset = CustomMusicDataset(test_label,test_root)\n",
        "testloader = torch.utils.data.DataLoader(testset,batch_size=1,shuffle=True)\n",
        "\n",
        "# cross validation -- sklearn NeuralNetClassifier\n",
        "\n"
      ],
      "execution_count": 13,
      "outputs": []
    },
    {
      "cell_type": "code",
      "metadata": {
        "colab": {
          "base_uri": "https://localhost:8080/"
        },
        "id": "29IiamaYtXod",
        "outputId": "6c15f0f2-7ff4-4b64-d962-d77359155135"
      },
      "source": [
        "dataiter = iter(testloader)\n",
        "counter = {0:0,1:0,2:0}\n",
        "for idx,i in enumerate(dataiter,0):\n",
        "  images,labels = i\n",
        "  images = images.cuda()\n",
        "  labels = labels.cuda()\n",
        "  outputs=net(images)\n",
        "  \n",
        "  _,predicted = torch.max(outputs,1)\n",
        "  print(predicted)\n",
        "  \n",
        "  if predicted[0] == 0:\n",
        "    counter[0] += 1\n",
        "  elif predicted[0] == 1:\n",
        "    counter[1] += 1\n",
        "  else:\n",
        "    counter[2] += 1\n",
        "\n",
        "classes = (\"차분한 노래\",\"신나는 노래\",\"슬픈 노래\")\n",
        "print(counter)\n",
        "max_list = list(counter.items())\n",
        "max_list.sort(key=lambda x:x[1])\n",
        "print(classes[max_list[-1][0]])"
      ],
      "execution_count": 14,
      "outputs": [
        {
          "output_type": "stream",
          "text": [
            "tensor([1], device='cuda:0')\n",
            "tensor([1], device='cuda:0')\n",
            "tensor([2], device='cuda:0')\n",
            "tensor([2], device='cuda:0')\n",
            "tensor([2], device='cuda:0')\n",
            "tensor([2], device='cuda:0')\n",
            "tensor([2], device='cuda:0')\n",
            "tensor([2], device='cuda:0')\n",
            "tensor([2], device='cuda:0')\n",
            "tensor([2], device='cuda:0')\n",
            "tensor([2], device='cuda:0')\n",
            "tensor([2], device='cuda:0')\n",
            "tensor([2], device='cuda:0')\n",
            "tensor([2], device='cuda:0')\n",
            "tensor([2], device='cuda:0')\n",
            "tensor([1], device='cuda:0')\n",
            "tensor([2], device='cuda:0')\n",
            "tensor([2], device='cuda:0')\n",
            "tensor([2], device='cuda:0')\n",
            "tensor([2], device='cuda:0')\n",
            "tensor([2], device='cuda:0')\n",
            "tensor([2], device='cuda:0')\n",
            "tensor([1], device='cuda:0')\n",
            "tensor([2], device='cuda:0')\n",
            "tensor([2], device='cuda:0')\n",
            "tensor([2], device='cuda:0')\n",
            "tensor([2], device='cuda:0')\n",
            "tensor([2], device='cuda:0')\n",
            "tensor([1], device='cuda:0')\n",
            "tensor([2], device='cuda:0')\n",
            "tensor([2], device='cuda:0')\n",
            "tensor([2], device='cuda:0')\n",
            "tensor([2], device='cuda:0')\n",
            "tensor([2], device='cuda:0')\n",
            "tensor([2], device='cuda:0')\n",
            "tensor([2], device='cuda:0')\n",
            "tensor([2], device='cuda:0')\n",
            "tensor([2], device='cuda:0')\n",
            "tensor([2], device='cuda:0')\n",
            "tensor([1], device='cuda:0')\n",
            "tensor([2], device='cuda:0')\n",
            "tensor([2], device='cuda:0')\n",
            "tensor([2], device='cuda:0')\n",
            "tensor([2], device='cuda:0')\n",
            "tensor([2], device='cuda:0')\n",
            "{0: 0, 1: 6, 2: 39}\n",
            "슬픈 노래\n"
          ],
          "name": "stdout"
        }
      ]
    },
    {
      "cell_type": "code",
      "metadata": {
        "id": "Ldubq7vP7_z0"
      },
      "source": [
        ""
      ],
      "execution_count": null,
      "outputs": []
    }
  ]
}